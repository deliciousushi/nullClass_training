{
  "nbformat": 4,
  "nbformat_minor": 0,
  "metadata": {
    "colab": {
      "provenance": [],
      "authorship_tag": "ABX9TyO9YOrFBLAPdPqklSGSIumy",
      "include_colab_link": true
    },
    "kernelspec": {
      "name": "python3",
      "display_name": "Python 3"
    },
    "language_info": {
      "name": "python"
    }
  },
  "cells": [
    {
      "cell_type": "markdown",
      "metadata": {
        "id": "view-in-github",
        "colab_type": "text"
      },
      "source": [
        "<a href=\"https://colab.research.google.com/github/deliciousushi/nullClass_training/blob/main/Untitled7.ipynb\" target=\"_parent\"><img src=\"https://colab.research.google.com/assets/colab-badge.svg\" alt=\"Open In Colab\"/></a>"
      ]
    },
    {
      "cell_type": "code",
      "execution_count": 2,
      "metadata": {
        "id": "m7UKmxT9b6KT"
      },
      "outputs": [],
      "source": [
        "import collections\n",
        "import numpy as np\n",
        "import json\n",
        "import tensorflow as tf\n",
        "from tensorflow import keras\n",
        "from keras.preprocessing.text import Tokenizer\n",
        "from keras.utils import pad_sequences\n",
        "from keras.models import Model, Sequential\n",
        "from keras.layers import Input, Dense, Embedding, GRU, LSTM, Bidirectional, Dropout, Activation, TimeDistributed, RepeatVector\n",
        "from keras.optimizers import Adam\n",
        "from keras.losses import sparse_categorical_crossentropy"
      ]
    },
    {
      "cell_type": "code",
      "source": [
        "def load_data(path):\n",
        "  input_file = path\n",
        "  with open(input_file, \"r\") as f:\n",
        "    data = f.read()\n",
        "  return data.split('\\n')\n",
        "\n",
        "english_sentence = load_data('/content/small_vocab_en.csv')\n",
        "french_sentence = load_data('/content/small_vocab_fr.csv')"
      ],
      "metadata": {
        "id": "7yyErIh2kD1y"
      },
      "execution_count": 3,
      "outputs": []
    },
    {
      "cell_type": "code",
      "source": [
        "english_sentence[1]\n",
        "print(french_sentence[1])"
      ],
      "metadata": {
        "colab": {
          "base_uri": "https://localhost:8080/"
        },
        "id": "WIJVjdIboF5g",
        "outputId": "6b28a5dd-a2e1-424b-ae90-7b9a59f7bb1a"
      },
      "execution_count": 4,
      "outputs": [
        {
          "output_type": "stream",
          "name": "stdout",
          "text": [
            "les états-unis est généralement froid en juillet , et il gèle habituellement en novembre .\n"
          ]
        }
      ]
    },
    {
      "cell_type": "code",
      "source": [
        "english_word_counter = collections.Counter([word for sentence in english_sentence for word in sentence.split()])\n",
        "french_word_counter = collections.Counter([word for sentence in french_sentence for word in sentence.split()])\n",
        "\n",
        "print('{} English_words.'.format(len([word for sentence in english_sentence for word in sentence.split()])))\n",
        "print('{} unique english words '.format(len(english_word_counter)))\n",
        "print('10 most commomn words:')\n",
        "print('\"' + '\" \"'.join(list(zip(*english_word_counter.most_common(10)))[0]) + '\"')\n",
        "print()\n",
        "\n",
        "print('{} French_words.'.format(len([word for sentence in french_sentence for word in sentence.split()])))\n",
        "print(\"{} unique French words.\".format(len(french_word_counter)))\n",
        "print('10 Most common words in the French dataset:')\n",
        "print('\"' + '\" \"'.join(list(zip(*french_word_counter.most_common (10)))[0]) + '\"')\n"
      ],
      "metadata": {
        "colab": {
          "base_uri": "https://localhost:8080/"
        },
        "id": "dYthXAVpolqI",
        "outputId": "935825b3-1e6f-4b6e-c09f-49f249724bb8"
      },
      "execution_count": 5,
      "outputs": [
        {
          "output_type": "stream",
          "name": "stdout",
          "text": [
            "1823250 English_words.\n",
            "227 unique english words \n",
            "10 most commomn words:\n",
            "\"is\" \",\" \".\" \"in\" \"it\" \"during\" \"the\" \"but\" \"and\" \"sometimes\"\n",
            "\n",
            "1961295 French_words.\n",
            "355 unique French words.\n",
            "10 Most common words in the French dataset:\n",
            "\"est\" \".\" \",\" \"en\" \"il\" \"les\" \"mais\" \"et\" \"la\" \"parfois\"\n"
          ]
        }
      ]
    },
    {
      "cell_type": "code",
      "source": [
        "english_word_counter = collections.Counter([word for sentence in english_sentence for word in sentence.split()])\n",
        "french_word_counter = collections.Counter([word for sentence in french_sentence for word in sentence.split()])\n",
        "\n",
        "# Corrected print statements\n",
        "print('{} English words'.format(len([word for sentence in english_sentence for word in sentence.split()])))\n",
        "print('{} Unique English words'.format(len(english_word_counter)))\n",
        "print('10 most common English words:', english_word_counter.most_common(10))\n",
        "\n",
        "print('{} French words'.format(len([word for sentence in french_sentence for word in sentence.split()])))\n",
        "print('{} Unique French words'.format(len(french_word_counter)))\n",
        "print('10 most common French words:', french_word_counter.most_common(10))"
      ],
      "metadata": {
        "colab": {
          "base_uri": "https://localhost:8080/"
        },
        "id": "Bl_hVabRh9GK",
        "outputId": "95e79849-e6e0-4cf1-b690-6025c58236fd"
      },
      "execution_count": 6,
      "outputs": [
        {
          "output_type": "stream",
          "name": "stdout",
          "text": [
            "1823250 English words\n",
            "227 Unique English words\n",
            "10 most common English words: [('is', 205858), (',', 140897), ('.', 129039), ('in', 75525), ('it', 75137), ('during', 74933), ('the', 67628), ('but', 63987), ('and', 59850), ('sometimes', 37746)]\n",
            "1961295 French words\n",
            "355 Unique French words\n",
            "10 most common French words: [('est', 196809), ('.', 135619), (',', 123135), ('en', 105768), ('il', 84079), ('les', 65255), ('mais', 63987), ('et', 59851), ('la', 49861), ('parfois', 37746)]\n"
          ]
        }
      ]
    },
    {
      "cell_type": "code",
      "source": [
        "def tokenize(x):\n",
        "  tokenizer = Tokenizer()\n",
        "  tokenizer.fit_on_texts(x)\n",
        "  return tokenizer.texts_to_sequences(x), tokenizer\n",
        "\n",
        "text_sentences = [\n",
        "    \"The quick brown fox jumps over the lazy dog.\",\n",
        "    \"By Jove, my quick study of lexicography won a prize.\",\n",
        "    \"This is a short sentence.\"]\n",
        "text_tokenized, text_tokenizer = tokenize(text_sentences)\n",
        "print(text_tokenizer.word_index)\n",
        "\n",
        "print()\n",
        "for sample_i, (sent, token_sent) in enumerate(zip(text_sentences, text_tokenized)):\n",
        "    print(' Sequence {} in x'.format(sample_i + 1))\n",
        "    print(' Input: {}'.format(sent))\n",
        "    print(' Output: {}'.format(token_sent))"
      ],
      "metadata": {
        "colab": {
          "base_uri": "https://localhost:8080/"
        },
        "id": "HRWwhHT1DOv0",
        "outputId": "bc5d2e59-a7e1-4597-c9a4-a77716577b59"
      },
      "execution_count": 7,
      "outputs": [
        {
          "output_type": "stream",
          "name": "stdout",
          "text": [
            "{'the': 1, 'quick': 2, 'a': 3, 'brown': 4, 'fox': 5, 'jumps': 6, 'over': 7, 'lazy': 8, 'dog': 9, 'by': 10, 'jove': 11, 'my': 12, 'study': 13, 'of': 14, 'lexicography': 15, 'won': 16, 'prize': 17, 'this': 18, 'is': 19, 'short': 20, 'sentence': 21}\n",
            "\n",
            " Sequence 1 in x\n",
            " Input: The quick brown fox jumps over the lazy dog.\n",
            " Output: [1, 2, 4, 5, 6, 7, 1, 8, 9]\n",
            " Sequence 2 in x\n",
            " Input: By Jove, my quick study of lexicography won a prize.\n",
            " Output: [10, 11, 12, 2, 13, 14, 15, 16, 3, 17]\n",
            " Sequence 3 in x\n",
            " Input: This is a short sentence.\n",
            " Output: [18, 19, 3, 20, 21]\n"
          ]
        }
      ]
    },
    {
      "cell_type": "code",
      "source": [
        "def pad(x, length=None):\n",
        "  if length is None:\n",
        "    length = max([len(sentence) for sentence in x])\n",
        "  return pad_sequences (x, maxlen=length, padding='post')\n",
        "\n",
        "test_pad = pad(text_tokenized)\n",
        "for sample_i, (token_sent, pad_sent) in enumerate(zip(text_tokenized, test_pad)):\n",
        "  print('Sequence {} in x'.format(sample_i + 1))\n",
        "  print(' Input: {}'.format(np.array(token_sent)))\n",
        "  print(' Output: {}'.format(pad_sent))"
      ],
      "metadata": {
        "colab": {
          "base_uri": "https://localhost:8080/"
        },
        "id": "bvlCzYouE4U0",
        "outputId": "725c9972-48bb-439e-fe19-745e228799a0"
      },
      "execution_count": 8,
      "outputs": [
        {
          "output_type": "stream",
          "name": "stdout",
          "text": [
            "Sequence 1 in x\n",
            " Input: [1 2 4 5 6 7 1 8 9]\n",
            " Output: [1 2 4 5 6 7 1 8 9 0]\n",
            "Sequence 2 in x\n",
            " Input: [10 11 12  2 13 14 15 16  3 17]\n",
            " Output: [10 11 12  2 13 14 15 16  3 17]\n",
            "Sequence 3 in x\n",
            " Input: [18 19  3 20 21]\n",
            " Output: [18 19  3 20 21  0  0  0  0  0]\n"
          ]
        }
      ]
    },
    {
      "cell_type": "code",
      "source": [
        "def preprocess (x,y):\n",
        "  preprocess_x, x_tk = tokenize(x)\n",
        "  preprocess_y, y_tk = tokenize(y)\n",
        "  preprocess_X = pad(preprocess_x)\n",
        "  preprocess_y = pad(preprocess_y)\n",
        "  preprocess_y = preprocess_y.reshape(*preprocess_y.shape, 1)\n",
        "\n",
        "  return preprocess_x, preprocess_y, x_tk, y_tk\n",
        "\n",
        "preproc_english_sentences, preproc_french_sentences, english_tokenizer, french_tokenizer = preprocess(english_sentence, french_sentence)\n",
        "#preproc_english_sentences = np.array(preproc_english_sentences)\n",
        "#preproc_french_sentences = np.array(preproc_french_sentences)\n",
        "\n"
      ],
      "metadata": {
        "id": "GG6Snc2AHF-j"
      },
      "execution_count": 9,
      "outputs": []
    },
    {
      "cell_type": "code",
      "source": [
        "english_vocab_size = len(english_tokenizer.word_index)\n",
        "french_vocab_size = len(french_tokenizer.word_index)"
      ],
      "metadata": {
        "id": "67qXIyfmNQjH"
      },
      "execution_count": 10,
      "outputs": []
    },
    {
      "cell_type": "code",
      "source": [
        "max_english_sequence_length = max(len(seq) for seq in preproc_english_sentences)\n",
        "max_french_sequence_length = max(len(seq) for seq in preproc_french_sentences)\n",
        "\n",
        "# Pad sequences\n",
        "preproc_english_sentences = pad(preproc_english_sentences, length=max_english_sequence_length)\n",
        "preproc_french_sentences = pad(preproc_french_sentences, length=max_french_sequence_length)\n",
        "\n",
        "# Convert lists to NumPy arrays\n",
        "preproc_english_sentences = np.array(preproc_english_sentences)\n",
        "preproc_french_sentences = np.array(preproc_french_sentences)\n",
        "\n",
        "english_vocab_size = len(english_tokenizer.word_index) + 1  # Add 1 for padding token\n",
        "french_vocab_size = len(french_tokenizer.word_index) + 1  # Add 1 for padding token\n",
        "\n",
        "print('Data Preprocessed')\n",
        "print(\"Max English sentence length:\", max_english_sequence_length)\n",
        "print(\"Max French sentence length:\", max_french_sequence_length)\n",
        "print(\"English vocabulary size:\", english_vocab_size)\n",
        "print(\"French vocabulary size:\", french_vocab_size)"
      ],
      "metadata": {
        "colab": {
          "base_uri": "https://localhost:8080/"
        },
        "id": "oAo-j6-FLm7P",
        "outputId": "5984373c-1ef8-4a7a-9a6e-59ce1a0d4e56"
      },
      "execution_count": 11,
      "outputs": [
        {
          "output_type": "stream",
          "name": "stdout",
          "text": [
            "Data Preprocessed\n",
            "Max English sentence length: 15\n",
            "Max French sentence length: 21\n",
            "English vocabulary size: 200\n",
            "French vocabulary size: 345\n"
          ]
        }
      ]
    },
    {
      "cell_type": "code",
      "source": [
        "def logits_to_text (logits, tokenizer):\n",
        "  index_to_words = {id: word for word, id in tokenizer.word_index.items()}\n",
        "  index_to_words[0] = '<PAD>'\n",
        "\n",
        "  return ' '.join([index_to_words[prediction] for prediction in np.argmax(logits, 1)])"
      ],
      "metadata": {
        "id": "rL3qvJI3MXGI"
      },
      "execution_count": 12,
      "outputs": []
    },
    {
      "cell_type": "markdown",
      "source": [
        "**SIMPLE MODEL**"
      ],
      "metadata": {
        "id": "xX45lwLVZcal"
      }
    },
    {
      "cell_type": "code",
      "source": [
        "def simple_model(input_shape, output_sequence_length, english_vocab_size, french_vocab_size):\n",
        "  learning_rate = 0.005\n",
        "  model = Sequential()\n",
        "\n",
        "  model.add(GRU(256, input_shape = input_shape[1:], return_sequences = True))\n",
        "  model.add(TimeDistributed(Dense(1024, activation='relu')))\n",
        "  model.add(Dropout(0.5))\n",
        "  model.add(TimeDistributed(Dense(french_vocab_size, activation='softmax')))\n",
        "\n",
        "  model.compile(loss = sparse_categorical_crossentropy,\n",
        "                optimizer = Adam(learning_rate),\n",
        "                metrics = ['accuracy'])\n",
        "  return model\n",
        "\n",
        "tmp_x = pad(preproc_english_sentences, max_french_sequence_length)\n",
        "tmp_x = tmp_x.reshape((-1, preproc_french_sentences.shape[-2], 1))\n",
        "\n",
        "simple_rnn_model = simple_model(\n",
        "    tmp_x.shape,\n",
        "    max_french_sequence_length,\n",
        "    english_vocab_size,\n",
        "    french_vocab_size)\n",
        "\n",
        "simple_rnn_model.fit(tmp_x, preproc_french_sentences, batch_size=1834, epochs=10, validation_split=0.2)"
      ],
      "metadata": {
        "colab": {
          "base_uri": "https://localhost:8080/"
        },
        "id": "hAVLMdk7OUVP",
        "outputId": "4a8bfc70-66ef-4170-84f8-c6a551de3d1a"
      },
      "execution_count": 13,
      "outputs": [
        {
          "output_type": "stream",
          "name": "stdout",
          "text": [
            "Epoch 1/10\n",
            "61/61 [==============================] - 382s 6s/step - loss: 2.2798 - accuracy: 0.4990 - val_loss: 1.4870 - val_accuracy: 0.6079\n",
            "Epoch 2/10\n",
            "61/61 [==============================] - 371s 6s/step - loss: 1.3843 - accuracy: 0.6162 - val_loss: 1.2204 - val_accuracy: 0.6414\n",
            "Epoch 3/10\n",
            "61/61 [==============================] - 370s 6s/step - loss: 1.2124 - accuracy: 0.6451 - val_loss: 1.1286 - val_accuracy: 0.6637\n",
            "Epoch 4/10\n",
            "61/61 [==============================] - 379s 6s/step - loss: 1.1283 - accuracy: 0.6619 - val_loss: 1.0273 - val_accuracy: 0.6866\n",
            "Epoch 5/10\n",
            "61/61 [==============================] - 380s 6s/step - loss: 1.0510 - accuracy: 0.6763 - val_loss: 0.9787 - val_accuracy: 0.6870\n",
            "Epoch 6/10\n",
            "61/61 [==============================] - 377s 6s/step - loss: 1.0032 - accuracy: 0.6838 - val_loss: 0.9185 - val_accuracy: 0.7028\n",
            "Epoch 7/10\n",
            "61/61 [==============================] - 377s 6s/step - loss: 0.9669 - accuracy: 0.6901 - val_loss: 0.8929 - val_accuracy: 0.7055\n",
            "Epoch 8/10\n",
            "61/61 [==============================] - 369s 6s/step - loss: 0.9272 - accuracy: 0.6979 - val_loss: 0.8669 - val_accuracy: 0.7108\n",
            "Epoch 9/10\n",
            "61/61 [==============================] - 376s 6s/step - loss: 0.9015 - accuracy: 0.7031 - val_loss: 0.8559 - val_accuracy: 0.7129\n",
            "Epoch 10/10\n",
            "61/61 [==============================] - 375s 6s/step - loss: 0.8681 - accuracy: 0.7134 - val_loss: 0.7871 - val_accuracy: 0.7358\n"
          ]
        },
        {
          "output_type": "execute_result",
          "data": {
            "text/plain": [
              "<keras.src.callbacks.History at 0x7f96ee778d30>"
            ]
          },
          "metadata": {},
          "execution_count": 13
        }
      ]
    },
    {
      "cell_type": "code",
      "source": [
        "print(\"Prediciton:\")\n",
        "print(logits_to_text(simple_rnn_model.predict(tmp_x[:1])[0], french_tokenizer))\n",
        "\n",
        "print(\"\\nCorrect Translation:\")\n",
        "print(french_sentence[:1])\n",
        "\n",
        "print(\"\\n original text:\")\n",
        "print(english_sentence[:1])"
      ],
      "metadata": {
        "colab": {
          "base_uri": "https://localhost:8080/"
        },
        "id": "WYfw33vATGL9",
        "outputId": "3dcf839f-029d-4eb9-efa8-46fcca611aaa"
      },
      "execution_count": 14,
      "outputs": [
        {
          "output_type": "stream",
          "name": "stdout",
          "text": [
            "Prediciton:\n",
            "1/1 [==============================] - 0s 488ms/step\n",
            "new jersey est parfois calme en mois de il et il est en en <PAD> <PAD> <PAD> <PAD> <PAD> <PAD> <PAD>\n",
            "\n",
            "Correct Translation:\n",
            "[\"new jersey est parfois calme pendant l' automne , et il est neigeux en avril .\"]\n",
            "\n",
            " original text:\n",
            "['new jersey is sometimes quiet during autumn , and it is snowy in april .']\n"
          ]
        }
      ]
    },
    {
      "cell_type": "code",
      "source": [
        "def bd_model(input_shape, output_sequence_length, english_vocab_size, french_vocab_size):\n",
        "  learning_rate = 0.005\n",
        "  model = Sequential()\n",
        "  model.add(Bidirectional (GRU(128, return_sequences=True), input_shape=input_shape[1:]))\n",
        "  model.add(TimeDistributed(Dense(1024, activation='relu')))\n",
        "  model.add(Dropout(0.5))\n",
        "  model.add(TimeDistributed(Dense(french_vocab_size, activation=\"softmax\")))\n",
        "\n",
        "  model.compile(loss = sparse_categorical_crossentropy,\n",
        "                optimizer = Adam(learning_rate),\n",
        "                metrics = ['accuracy'])\n",
        "  return model\n",
        "\n",
        "tmp_x = pad(preproc_english_sentences, max_french_sequence_length)\n",
        "tmp_x = tmp_x.reshape((-1, preproc_french_sentences.shape[-2], 1))\n",
        "\n",
        "bd_rnn_model = bd_model(\n",
        "    tmp_x.shape, max_french_sequence_length,\n",
        "    english_vocab_size,\n",
        "    french_vocab_size)\n",
        "\n",
        "print(bd_rnn_model.summary())\n",
        "bd_rnn_model.fit(tmp_x, preproc_french_sentences, batch_size=1024, epochs=10, validation_split=0.2)"
      ],
      "metadata": {
        "colab": {
          "base_uri": "https://localhost:8080/"
        },
        "id": "7UM2Xsy7EbGW",
        "outputId": "1b3bf4ff-1470-4a5a-95f1-72ab08aa6678"
      },
      "execution_count": 17,
      "outputs": [
        {
          "output_type": "stream",
          "name": "stdout",
          "text": [
            "Model: \"sequential_1\"\n",
            "_________________________________________________________________\n",
            " Layer (type)                Output Shape              Param #   \n",
            "=================================================================\n",
            " bidirectional (Bidirection  (None, 21, 256)           100608    \n",
            " al)                                                             \n",
            "                                                                 \n",
            " time_distributed_2 (TimeDi  (None, 21, 1024)          263168    \n",
            " stributed)                                                      \n",
            "                                                                 \n",
            " dropout_1 (Dropout)         (None, 21, 1024)          0         \n",
            "                                                                 \n",
            " time_distributed_3 (TimeDi  (None, 21, 345)           353625    \n",
            " stributed)                                                      \n",
            "                                                                 \n",
            "=================================================================\n",
            "Total params: 717401 (2.74 MB)\n",
            "Trainable params: 717401 (2.74 MB)\n",
            "Non-trainable params: 0 (0.00 Byte)\n",
            "_________________________________________________________________\n",
            "None\n",
            "Epoch 1/10\n",
            "108/108 [==============================] - 353s 3s/step - loss: 1.7320 - accuracy: 0.5781 - val_loss: 1.2000 - val_accuracy: 0.6494\n",
            "Epoch 2/10\n",
            "108/108 [==============================] - 334s 3s/step - loss: 1.1592 - accuracy: 0.6574 - val_loss: 1.0333 - val_accuracy: 0.6777\n",
            "Epoch 3/10\n",
            "108/108 [==============================] - 330s 3s/step - loss: 1.0334 - accuracy: 0.6790 - val_loss: 0.9396 - val_accuracy: 0.6987\n",
            "Epoch 4/10\n",
            "108/108 [==============================] - 317s 3s/step - loss: 0.9605 - accuracy: 0.6903 - val_loss: 0.8735 - val_accuracy: 0.7077\n",
            "Epoch 5/10\n",
            "108/108 [==============================] - 387s 4s/step - loss: 0.9108 - accuracy: 0.6979 - val_loss: 0.8209 - val_accuracy: 0.7177\n",
            "Epoch 6/10\n",
            "108/108 [==============================] - 350s 3s/step - loss: 0.8655 - accuracy: 0.7066 - val_loss: 0.7840 - val_accuracy: 0.7261\n",
            "Epoch 7/10\n",
            "108/108 [==============================] - 314s 3s/step - loss: 0.8342 - accuracy: 0.7136 - val_loss: 0.7550 - val_accuracy: 0.7328\n",
            "Epoch 8/10\n",
            "108/108 [==============================] - 336s 3s/step - loss: 0.8130 - accuracy: 0.7172 - val_loss: 0.7608 - val_accuracy: 0.7250\n",
            "Epoch 9/10\n",
            "108/108 [==============================] - 332s 3s/step - loss: 0.7898 - accuracy: 0.7209 - val_loss: 0.7149 - val_accuracy: 0.7414\n",
            "Epoch 10/10\n",
            "108/108 [==============================] - 333s 3s/step - loss: 0.7668 - accuracy: 0.7264 - val_loss: 0.7193 - val_accuracy: 0.7325\n"
          ]
        },
        {
          "output_type": "execute_result",
          "data": {
            "text/plain": [
              "<keras.src.callbacks.History at 0x7f96e8981720>"
            ]
          },
          "metadata": {},
          "execution_count": 17
        }
      ]
    },
    {
      "cell_type": "code",
      "source": [
        "print(\"Prediciton:\")\n",
        "print(logits_to_text(bd_rnn_model.predict(tmp_x[:1])[0], french_tokenizer))\n",
        "\n",
        "print(\"\\nCorrect Translation:\")\n",
        "print(french_sentence[:1])\n",
        "\n",
        "print(\"\\n original text:\")\n",
        "print(english_sentence[:1])"
      ],
      "metadata": {
        "colab": {
          "base_uri": "https://localhost:8080/"
        },
        "id": "uEgixOcWcUuf",
        "outputId": "d10dd0aa-8f8b-48fb-f390-4f02da972c97"
      },
      "execution_count": 18,
      "outputs": [
        {
          "output_type": "stream",
          "name": "stdout",
          "text": [
            "Prediciton:\n",
            "1/1 [==============================] - 1s 763ms/step\n",
            "new jersey est parfois calme en mois et il il il neigeux en <PAD> <PAD> <PAD> <PAD> <PAD> <PAD> <PAD> <PAD>\n",
            "\n",
            "Correct Translation:\n",
            "[\"new jersey est parfois calme pendant l' automne , et il est neigeux en avril .\"]\n",
            "\n",
            " original text:\n",
            "['new jersey is sometimes quiet during autumn , and it is snowy in april .']\n"
          ]
        }
      ]
    },
    {
      "cell_type": "code",
      "source": [
        "def bidirectional_embed_model(input_shape, output_sequence_length, english_vocab_size, french_vocab_size):\n",
        "  learning_rate = 0.005\n",
        "  model = Sequential()\n",
        "  model.add(Embedding(english_vocab_size, 256, input_length=input_shape[1], input_shape=input_shape[1:]))\n",
        "  model.add(Bidirectional (GRU(256, return_sequences=True)))\n",
        "  model.add(TimeDistributed(Dense(1024, activation='relu')))\n",
        "  model.add(Dropout(0.5))\n",
        "  model.add(TimeDistributed(Dense(french_vocab_size, activation='softmax')))\n",
        "\n",
        "  model.compile(loss=sparse_categorical_crossentropy,\n",
        "                optimizer=Adam(learning_rate),\n",
        "                metrics=['accuracy'])\n",
        "\n",
        "  return model\n",
        "\n",
        "tmp_x = pad(preproc_english_sentences, max_french_sequence_length)\n",
        "tmp_x = tmp_x.reshape((-1, preproc_french_sentences.shape[-2]))\n",
        "\n",
        "embed_rnn_model = bidirectional_embed_model( tmp_x.shape, max_french_sequence_length, english_vocab_size, french_vocab_size)\n",
        "print(embed_rnn_model.summary())\n",
        "embed_rnn_model.fit(tmp_x, preproc_french_sentences, batch_size=1024, epochs=10, validation_split=0.2)"
      ],
      "metadata": {
        "colab": {
          "base_uri": "https://localhost:8080/"
        },
        "id": "vx-5LJ48hMKS",
        "outputId": "47a18f8b-9929-453d-afaa-7cc9ce53fc10"
      },
      "execution_count": 19,
      "outputs": [
        {
          "output_type": "stream",
          "name": "stdout",
          "text": [
            "Model: \"sequential_2\"\n",
            "_________________________________________________________________\n",
            " Layer (type)                Output Shape              Param #   \n",
            "=================================================================\n",
            " embedding (Embedding)       (None, 21, 256)           51200     \n",
            "                                                                 \n",
            " bidirectional_1 (Bidirecti  (None, 21, 512)           789504    \n",
            " onal)                                                           \n",
            "                                                                 \n",
            " time_distributed_4 (TimeDi  (None, 21, 1024)          525312    \n",
            " stributed)                                                      \n",
            "                                                                 \n",
            " dropout_2 (Dropout)         (None, 21, 1024)          0         \n",
            "                                                                 \n",
            " time_distributed_5 (TimeDi  (None, 21, 345)           353625    \n",
            " stributed)                                                      \n",
            "                                                                 \n",
            "=================================================================\n",
            "Total params: 1719641 (6.56 MB)\n",
            "Trainable params: 1719641 (6.56 MB)\n",
            "Non-trainable params: 0 (0.00 Byte)\n",
            "_________________________________________________________________\n",
            "None\n",
            "Epoch 1/10\n",
            "108/108 [==============================] - 707s 7s/step - loss: 1.3634 - accuracy: 0.6950 - val_loss: 0.3999 - val_accuracy: 0.8735\n",
            "Epoch 2/10\n",
            "108/108 [==============================] - 666s 6s/step - loss: 0.3018 - accuracy: 0.9048 - val_loss: 0.1905 - val_accuracy: 0.9396\n",
            "Epoch 3/10\n",
            "108/108 [==============================] - 656s 6s/step - loss: 0.1800 - accuracy: 0.9433 - val_loss: 0.1285 - val_accuracy: 0.9597\n",
            "Epoch 4/10\n",
            "108/108 [==============================] - 656s 6s/step - loss: 0.1263 - accuracy: 0.9604 - val_loss: 0.1037 - val_accuracy: 0.9686\n",
            "Epoch 5/10\n",
            "108/108 [==============================] - 656s 6s/step - loss: 0.0996 - accuracy: 0.9690 - val_loss: 0.0854 - val_accuracy: 0.9746\n",
            "Epoch 6/10\n",
            "108/108 [==============================] - 621s 6s/step - loss: 0.0862 - accuracy: 0.9733 - val_loss: 0.0768 - val_accuracy: 0.9764\n",
            "Epoch 7/10\n",
            "108/108 [==============================] - 621s 6s/step - loss: 0.0727 - accuracy: 0.9775 - val_loss: 0.0685 - val_accuracy: 0.9800\n",
            "Epoch 8/10\n",
            "108/108 [==============================] - 655s 6s/step - loss: 0.0646 - accuracy: 0.9799 - val_loss: 0.0679 - val_accuracy: 0.9802\n",
            "Epoch 9/10\n",
            "108/108 [==============================] - 662s 6s/step - loss: 0.0631 - accuracy: 0.9804 - val_loss: 0.0688 - val_accuracy: 0.9802\n",
            "Epoch 10/10\n",
            "108/108 [==============================] - 625s 6s/step - loss: 0.0563 - accuracy: 0.9824 - val_loss: 0.0642 - val_accuracy: 0.9820\n"
          ]
        },
        {
          "output_type": "execute_result",
          "data": {
            "text/plain": [
              "<keras.src.callbacks.History at 0x7f96ea8f3a00>"
            ]
          },
          "metadata": {},
          "execution_count": 19
        }
      ]
    },
    {
      "cell_type": "code",
      "source": [
        "print(\"Prediciton:\")\n",
        "print(logits_to_text(embed_rnn_model.predict(tmp_x[:1])[0], french_tokenizer))\n",
        "\n",
        "print(\"\\nCorrect Translation:\")\n",
        "print(french_sentence[:1])\n",
        "\n",
        "print(\"\\n original text:\")\n",
        "print(english_sentence[:1])"
      ],
      "metadata": {
        "colab": {
          "base_uri": "https://localhost:8080/"
        },
        "id": "Ao3eU7cUqz3N",
        "outputId": "a939762e-46a5-4dc7-b61a-f63156ce6a94"
      },
      "execution_count": 20,
      "outputs": [
        {
          "output_type": "stream",
          "name": "stdout",
          "text": [
            "Prediciton:\n",
            "1/1 [==============================] - 1s 1s/step\n",
            "new jersey est parfois calme pendant l' automne et il est neigeux en avril <PAD> <PAD> <PAD> <PAD> <PAD> <PAD> <PAD>\n",
            "\n",
            "Correct Translation:\n",
            "[\"new jersey est parfois calme pendant l' automne , et il est neigeux en avril .\"]\n",
            "\n",
            " original text:\n",
            "['new jersey is sometimes quiet during autumn , and it is snowy in april .']\n"
          ]
        }
      ]
    },
    {
      "cell_type": "code",
      "source": [
        "embed_rnn_model.save('english_to_french_model')\n",
        "\n",
        "#serialize English Tokenizer to JSON\n",
        "with open('english_tokenizer.json', 'w', encoding='utf8') as f:\n",
        "      f.write(json.dumps(english_tokenizer.to_json(), ensure_ascii=False))\n",
        "\n",
        "#Serialize French Tokenizer to JSON\n",
        "with open('french_tokenizer.json', 'w', encoding='utf8') as f:\n",
        "      f.write(json.dumps(french_tokenizer.to_json(), ensure_ascii=False))\n",
        "\n",
        "#Save max Lengths\n",
        "max_french_sequence_length_json = max_french_sequence_length\n",
        "with open('sequence_length.json', 'w', encoding='utf8') as f:\n",
        "      f.write(json.dumps(max_french_sequence_length_json, ensure_ascii=False))"
      ],
      "metadata": {
        "id": "pFphM747q4Sp"
      },
      "execution_count": 21,
      "outputs": []
    },
    {
      "cell_type": "code",
      "source": [],
      "metadata": {
        "id": "xEmWyRxJrXU6"
      },
      "execution_count": null,
      "outputs": []
    }
  ]
}